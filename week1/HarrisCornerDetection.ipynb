{
 "cells": [
  {
   "cell_type": "markdown",
   "metadata": {},
   "source": [
    "# Harris Corner Detection"
   ]
  },
  {
   "cell_type": "markdown",
   "metadata": {},
   "source": [
    "## I. Harris Corner Detector in OpenCV"
   ]
  },
  {
   "cell_type": "markdown",
   "metadata": {},
   "source": [
    "### 1) Load the Dependencies"
   ]
  },
  {
   "cell_type": "markdown",
   "metadata": {},
   "source": [
    "*   [Numpy](https://www.numpy.org/) is an array manipulation library, used for linear algebra, Fourier transform, and random number capabilities.\n",
    "*   [CV2](https://opencv-python-tutroals.readthedocs.io/en/latest/py_tutorials/py_gui/py_image_display/py_image_display.html) is a library for computer vision tasks."
   ]
  },
  {
   "cell_type": "code",
   "execution_count": 2,
   "metadata": {},
   "outputs": [],
   "source": [
    "import numpy as np\n",
    "import cv2 as cv"
   ]
  },
  {
   "cell_type": "code",
   "execution_count": 4,
   "metadata": {},
   "outputs": [
    {
     "ename": "error",
     "evalue": "OpenCV(4.5.5) D:\\a\\opencv-python\\opencv-python\\opencv\\modules\\imgproc\\src\\color.cpp:182: error: (-215:Assertion failed) !_src.empty() in function 'cv::cvtColor'\n",
     "output_type": "error",
     "traceback": [
      "\u001b[1;31m---------------------------------------------------------------------------\u001b[0m",
      "\u001b[1;31merror\u001b[0m                                     Traceback (most recent call last)",
      "\u001b[1;32md:\\Code\\jupyter\\CS338_M21_KHCL\\buoi1\\HarrisCornerDetection.ipynb Cell 6'\u001b[0m in \u001b[0;36m<cell line: 4>\u001b[1;34m()\u001b[0m\n\u001b[0;32m      <a href='vscode-notebook-cell:/d%3A/Code/jupyter/CS338_M21_KHCL/buoi1/HarrisCornerDetection.ipynb#ch0000008?line=0'>1</a>\u001b[0m file_path \u001b[39m=\u001b[39m \u001b[39m'\u001b[39m\u001b[39mD:\u001b[39m\u001b[39m\\\u001b[39m\u001b[39mCode\u001b[39m\u001b[39m\\\u001b[39m\u001b[39mjupyter\u001b[39m\u001b[39m\\\u001b[39m\u001b[39mCS338_M21_KHCL\u001b[39m\u001b[39m\\b\u001b[39;00m\u001b[39muoi1\u001b[39m\u001b[39m\\\u001b[39m\u001b[39mimages\u001b[39m\u001b[39m\\\u001b[39m\u001b[39mcb1.jpg\u001b[39m\u001b[39m'\u001b[39m\n\u001b[0;32m      <a href='vscode-notebook-cell:/d%3A/Code/jupyter/CS338_M21_KHCL/buoi1/HarrisCornerDetection.ipynb#ch0000008?line=2'>3</a>\u001b[0m img \u001b[39m=\u001b[39m cv\u001b[39m.\u001b[39mimread(file_path)\n\u001b[1;32m----> <a href='vscode-notebook-cell:/d%3A/Code/jupyter/CS338_M21_KHCL/buoi1/HarrisCornerDetection.ipynb#ch0000008?line=3'>4</a>\u001b[0m gray \u001b[39m=\u001b[39m cv\u001b[39m.\u001b[39;49mcvtColor(img,cv\u001b[39m.\u001b[39;49mCOLOR_BGR2GRAY)\n\u001b[0;32m      <a href='vscode-notebook-cell:/d%3A/Code/jupyter/CS338_M21_KHCL/buoi1/HarrisCornerDetection.ipynb#ch0000008?line=4'>5</a>\u001b[0m \u001b[39m# gray = np.float32(gray)\u001b[39;00m\n\u001b[0;32m      <a href='vscode-notebook-cell:/d%3A/Code/jupyter/CS338_M21_KHCL/buoi1/HarrisCornerDetection.ipynb#ch0000008?line=5'>6</a>\u001b[0m \u001b[39m# dst = cv.cornerHarris(gray,2,3,0.04)\u001b[39;00m\n\u001b[0;32m      <a href='vscode-notebook-cell:/d%3A/Code/jupyter/CS338_M21_KHCL/buoi1/HarrisCornerDetection.ipynb#ch0000008?line=6'>7</a>\u001b[0m \n\u001b[1;32m   (...)\u001b[0m\n\u001b[0;32m     <a href='vscode-notebook-cell:/d%3A/Code/jupyter/CS338_M21_KHCL/buoi1/HarrisCornerDetection.ipynb#ch0000008?line=12'>13</a>\u001b[0m \u001b[39m# if cv.waitKey(0) & 0xff == 27:\u001b[39;00m\n\u001b[0;32m     <a href='vscode-notebook-cell:/d%3A/Code/jupyter/CS338_M21_KHCL/buoi1/HarrisCornerDetection.ipynb#ch0000008?line=13'>14</a>\u001b[0m \u001b[39m#     cv.destroyAllWindows()\u001b[39;00m\n\u001b[0;32m     <a href='vscode-notebook-cell:/d%3A/Code/jupyter/CS338_M21_KHCL/buoi1/HarrisCornerDetection.ipynb#ch0000008?line=15'>16</a>\u001b[0m cv\u001b[39m.\u001b[39mimshow(\u001b[39m\"\u001b[39m\u001b[39mahihi\u001b[39m\u001b[39m\"\u001b[39m, img)\n",
      "\u001b[1;31merror\u001b[0m: OpenCV(4.5.5) D:\\a\\opencv-python\\opencv-python\\opencv\\modules\\imgproc\\src\\color.cpp:182: error: (-215:Assertion failed) !_src.empty() in function 'cv::cvtColor'\n"
     ]
    }
   ],
   "source": [
    "file_path = 'D:\\Code\\jupyter\\CS338_M21_KHCL\\buoi1\\images\\cb1.jpg'\n",
    "\n",
    "img = cv.imread(file_path)\n",
    "gray = cv.cvtColor(img,cv.COLOR_BGR2GRAY)\n",
    "# gray = np.float32(gray)\n",
    "# dst = cv.cornerHarris(gray,2,3,0.04)\n",
    "\n",
    "# #result is dilated for marking the corners, not important\n",
    "# dst = cv.dilate(dst,None)\n",
    "# # Threshold for an optimal value, it may vary depending on the image.\n",
    "# img[dst>0.01*dst.max()]=[0,0,255]\n",
    "# cv.imshow('dst',img)\n",
    "# if cv.waitKey(0) & 0xff == 27:\n",
    "#     cv.destroyAllWindows()\n",
    "\n",
    "cv.imshow(\"ahihi\", img)\n",
    "if cv.waitKey(0) & 0xff == 27:\n",
    "    cv.destroyAllWindows()"
   ]
  }
 ],
 "metadata": {
  "interpreter": {
   "hash": "875746f2f0f1fb5bf228d3cccb3922ed975f8c5012914b60b006d9e1cf822806"
  },
  "kernelspec": {
   "display_name": "Python 3.9.7 ('cvenv')",
   "language": "python",
   "name": "python3"
  },
  "language_info": {
   "codemirror_mode": {
    "name": "ipython",
    "version": 3
   },
   "file_extension": ".py",
   "mimetype": "text/x-python",
   "name": "python",
   "nbconvert_exporter": "python",
   "pygments_lexer": "ipython3",
   "version": "3.9.7"
  },
  "orig_nbformat": 4
 },
 "nbformat": 4,
 "nbformat_minor": 2
}
